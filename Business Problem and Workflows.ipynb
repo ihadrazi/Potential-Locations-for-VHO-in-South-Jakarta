{
 "cells": [
  {
   "cell_type": "markdown",
   "metadata": {},
   "source": [
    "# Clustering Analysis of Potential Locations for Virtual Hotel Business Development in South Jakarta, Indonesia\n",
    "## Project Proposal\n",
    "\n",
    "### Capstone Project for IBM Data Science Professional Certificate\n",
    "### By Imam Hadrazi Baihaki"
   ]
  },
  {
   "cell_type": "markdown",
   "metadata": {},
   "source": [
    "## Introduction\n",
    "\n",
    "\n",
    "### Preface\n",
    "\n",
    "Low budget traveling and staycation has become a common needs for young people in Indonesia, espescially in its capital city, Jakarta. To accomodate this needs, several virtual hotel operators (e.g., OYO, RedDoorz, and Airy) have rapidly developed their business in this city. This type of accommodation has become a favorite choice amongst travelers because its simplicity, easyness to book, and lower price compared to other hotel operators. \n",
    "\n",
    "South Jakarta is a very promising area to develop this kind of business. There are plenty of popular restaurants, caffees, shopping malls, nightlife entertainments, and other interesting places in this area that would attract guests to stay in this area. But, opening a new business unit in this area does not guarantee that it will be a pleasant place to stay for the guests. It has to be opened in the right, strategic location so guests can have great experience while staying. \n",
    "\n",
    "Fortunately, Google Map, a popular navigation app can accomodate its users to give to rate any particular places, including hotels. The rating value ranges from 0 to 5, where 0 means very unpleasant an 5 means excellent satisfatory. These ratings is considerable to be used as satisfactory measurement by hotel guests.\n",
    "\n",
    "### Project Goal\n",
    "\n",
    "In this project, we will develop a classification machine learning model to determine whether each particular location shall be a promising location for the hotel business to expand, or not. Moreover, this project aims to find locations that will have 4-5 rating if a new hotel built in each particular location. And then, we will create clusters of potential area for opening a new VHO franchise.\n",
    "\n",
    "The influencing factors for the rating will be the number of points of interest nearby the hotel. The type of POIs can be places to eat and drink, places to hang out, places to get basic needs (e.g., kiosks, shopping centers, ATM, etc), and transportation facilities.\n",
    "\n",
    "### Purpose\n",
    "\n",
    "The result of this project is expected to be able to bring insights for virtual hotel operators that interested in opening a new franchise in South Jakarta Area. As South Jakarta is a vast area, several loations recommended in the result section can be used as starting points for further analyses prior to make a business decision."
   ]
  },
  {
   "cell_type": "markdown",
   "metadata": {},
   "source": [
    "## Data Collection\n",
    "\n",
    "In general, the data needed to be extracted are:\n",
    "* Existing VHO franchises located within the area of observation.\n",
    "* Average rating for all existing OVO franchises.\n",
    "* Points of Interest located within the area of observation. The POI categories that needed to be extracted are not limited to: restaurants, caffees, shopping centre, cinema, bar/pub, public transportation, ATM, etc.\n",
    "\n",
    "To be able to extract these data required, there are two sources of data to be utilized:\n",
    "* Google Geocoding API (https://developers.google.com/maps/documentation/geocoding/overview)\n",
    "* Google Places API (https://developers.google.com/places/web-service/overview)\n",
    "* Here Map API (https://developer.here.com/)\n",
    "\n",
    "These APIs mentioned is chosen because of its reliability to be used for exploring places in South Jakarta area."
   ]
  },
  {
   "cell_type": "markdown",
   "metadata": {},
   "source": [
    "## Process and Methodologies\n",
    "\n",
    "### Location Data Extraction\n",
    "\n",
    "After defining the area of observation and it boundary, two APIs mentioned in the previous section shall be utilized to extract desired locations information. Google Places API service shall be used to extract existing VHO franchises and the ratings, while Here Map API shall be used to extract POI locations. These two data shall then be combined to count the number of POIs located to each hotels within walking distance (500 meters).\n",
    "\n",
    "### Developing Machine Learning Model for Classification\n",
    "\n",
    "The ML solution to be made is used to predict the rating of each hotel based on the number of various POIs located nearby. There will three type of classification algorithm to be used:\n",
    "* K-Nearest Neighbors\n",
    "* Decision three\n",
    "* Support Vector Machine\n",
    "\n",
    "For each algorithm, the accuracy shall be measured using Jaccard similiarity index and F1 score. The algorithm with highest accuracy shall then be used to find potential candidates for a new highly rated OVO franchise.\n",
    "\n",
    "### Generating New Potential locations\n",
    "\n",
    "As the best algorithm has been figured out, multiple points shall be created as location candidates. These point shall be spreaded out with same distance to one another within the area of observation. For each point, numbers of nearby POIs shall be counted using the extracted POIs data. \n",
    "\n",
    "Then, the chosen classification algorithm shall be utilized to predict the rating of each location. The candidates will then be shortlisted only to candidates with high predicted ratings.\n",
    "\n",
    "### Clustering Potential candidates\n",
    "\n",
    "After potential candidates have been figured out, a clustering algorithm shall be used to make clusters of candidates based on its distance to other candidates. Then, the coordinate of each cluster centre shall be extracted. These coordinates shall then be used in reverse geocoding to extract the address for each cluster's centre."
   ]
  }
 ],
 "metadata": {
  "language_info": {
   "codemirror_mode": {
    "name": "ipython",
    "version": 3
   },
   "file_extension": ".py",
   "mimetype": "text/x-python",
   "name": "python",
   "nbconvert_exporter": "python",
   "pygments_lexer": "ipython3",
   "version": "3.7.4-final"
  },
  "orig_nbformat": 2,
  "kernelspec": {
   "name": "python_defaultSpec_1597537011592",
   "display_name": "Python 3.7.6 64-bit ('base': conda)"
  }
 },
 "nbformat": 4,
 "nbformat_minor": 2
}